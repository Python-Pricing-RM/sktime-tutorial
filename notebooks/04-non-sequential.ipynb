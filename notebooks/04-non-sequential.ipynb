{
 "cells": [
  {
   "cell_type": "code",
   "execution_count": null,
   "metadata": {
    "collapsed": false
   },
   "outputs": [],
   "source": [
    "import warnings\n",
    "\n",
    "warnings.filterwarnings(\"ignore\")"
   ]
  },
  {
   "cell_type": "markdown",
   "metadata": {
    "collapsed": false
   },
   "source": [
    "# 4.1 Introduction\n",
    "* recap:\n",
    "    * transformers\n",
    "    * pipeline\n",
    "    * tuning of pipelines\n",
    "\n",
    "* next: roadmap!\n",
    "\n",
    "# 4.2 From sequential to graphical pipelines\n",
    "\n",
    "Motivation:\n",
    "\n",
    "Electricity price forecast\n",
    "\n",
    "* exogeneous features are important\n",
    "* load forecast, calendar features, weather, ...\n",
    "* separate forecast for exogeneous (this) and endogeneous (electricity)\n"
   ]
  },
  {
   "cell_type": "markdown",
   "metadata": {},
   "source": [
    "### Iteration 1\n",
    "\n",
    "* only historic data for forecasting\n",
    "* and a sequential pipeline\n",
    "\n",
    "For electricity price forecasting a very simple pipeline may look as follows\n",
    "\n",
    "<img src=\"../images/sequential-pipeline.png\" alt=\"Sequential Pipelien\" width=\"1000\"/>"
   ]
  },
  {
   "cell_type": "code",
   "execution_count": null,
   "metadata": {},
   "outputs": [],
   "source": [
    "import pandas as pd\n",
    "\n",
    "# Load data\n",
    "data = pd.read_csv(\"../data/getting_started_data.csv\", parse_dates=[\"time\"], index_col=\"time\",)\n",
    "data.index.freq = \"H\"\n",
    "y = data[\"price\"]\n",
    "y_load = data[\"load_power_statistics\"]\n",
    "y_train = y.iloc[:1000]\n",
    "X_train_load = y_load.iloc[:1000]\n",
    "X_test_load = y_load.iloc[1000:1048]\n",
    "\n",
    "test_idx = y.iloc[1000:1048].index"
   ]
  },
  {
   "cell_type": "code",
   "execution_count": null,
   "metadata": {
    "collapsed": false
   },
   "outputs": [],
   "source": [
    "from sktime.forecasting.compose import ForecastingPipeline\n",
    "from sktime.transformations.series.adapt import TabularToSeriesAdaptor\n",
    "from sktime.forecasting.base import ForecastingHorizon\n",
    "from sktime.forecasting.arima import ARIMA\n",
    "from sklearn.preprocessing import StandardScaler\n",
    "from sktime.utils.plotting import plot_series\n",
    "\n",
    "# Build a simple pipeline\n",
    "pipe = ForecastingPipeline(steps=[\n",
    "    (\"standardscaler\", TabularToSeriesAdaptor(StandardScaler())),\n",
    "    (\"forecaster\", ARIMA(order=(24, 0, 0))),\n",
    "])\n",
    "# Train the pipeline\n",
    "fh = ForecastingHorizon(test_idx, is_relative=False)\n",
    "pipe.fit(y_train, fh=fh)\n",
    "\n",
    "# Predict one Step\n",
    "y_pred = pipe.predict()\n",
    "plot_series(y_pred)\n"
   ]
  },
  {
   "cell_type": "markdown",
   "metadata": {
    "collapsed": false
   },
   "source": [
    "\n",
    "### Iteration 2!\n",
    "\n",
    "* calendar features\n",
    "* future electrical demand\n",
    "\n",
    "Requires:\n",
    "* 2nd pipeline for load forecasting, and\n",
    "* sticking load forecasts into the price forecasting pipe\n",
    "\n",
    "#### Load Forecast Pipeline\n",
    "<img src=\"../images/LoadForecast.png\" alt=\"Load Forecast\" width=\"1000\"/>\n",
    "\n",
    "#### Price Forecast Pipeline\n",
    "<img src=\"../images/PriceForecastAdvanced.png\" alt=\"Price Forecast\" width=\"1000\"/>\n",
    "\n"
   ]
  },
  {
   "cell_type": "code",
   "execution_count": null,
   "metadata": {
    "collapsed": false
   },
   "outputs": [],
   "source": [
    "from sktime.transformations.series.date import DateTimeFeatures\n",
    "from sktime.forecasting.compose import ForecastX\n",
    "\n",
    "load_pipe = ForecastingPipeline(steps=[\n",
    "    (\"standardscaler\", TabularToSeriesAdaptor(StandardScaler())),\n",
    "    (\"forecaster\", ARIMA((24, 0, 0))),\n",
    "])\n",
    "\n",
    "# Construct a price forecasting pipeline\n",
    "price_pipe = ForecastingPipeline(steps=[\n",
    "    (\"standardscaler\", TabularToSeriesAdaptor(StandardScaler())),\n",
    "    (\"forecaster\", ARIMA((24, 0, 0))),\n",
    "])\n",
    "\n",
    "dt_features_train = DateTimeFeatures(ts_freq=\"H\", manual_selection=[\"hour_of_day\", \"day_of_week\"]).fit_transform(X_train_load)[[\"hour_of_day\", \"day_of_week\"]]\n",
    "dt_features_test = DateTimeFeatures(ts_freq=\"H\", manual_selection=[\"hour_of_day\", \"day_of_week\"]).fit_transform(X_test_load)[[\"hour_of_day\", \"day_of_week\"]]\n",
    "\n",
    "price_forecast = ForecastX(price_pipe, load_pipe)\n",
    "price_forecast.fit(y_train, X=dt_features_train, fh=X_test_load.index)\n",
    "predicted_price = price_forecast.predict(X=dt_features_test)\n",
    "\n",
    "plot_series(predicted_price)"
   ]
  },
  {
   "cell_type": "markdown",
   "metadata": {},
   "source": [
    "or, using compositors..."
   ]
  },
  {
   "cell_type": "code",
   "execution_count": null,
   "metadata": {
    "collapsed": false
   },
   "outputs": [],
   "source": [
    "from sktime.transformations.series.date import DateTimeFeatures\n",
    "from sktime.forecasting.compose import ForecastX\n",
    "from sktime.transformations.compose import YtoX\n",
    "\n",
    "load_pipe = ForecastingPipeline(steps=[\n",
    "    (\"standardscaler\", TabularToSeriesAdaptor(StandardScaler())),\n",
    "    (\"forecaster\", ARIMA((24, 0, 0))),\n",
    "])\n",
    "\n",
    "# Construct a price forecasting pipeline\n",
    "price_pipe = ForecastingPipeline(steps=[\n",
    "    (\"standardscaler\", TabularToSeriesAdaptor(StandardScaler())),\n",
    "    (\"forecaster\", ARIMA((24, 0, 0))),\n",
    "])\n",
    "\n",
    "dt_features = DateTimeFeatures(ts_freq=\"H\", manual_selection=[\"hour_of_day\", \"day_of_week\"])\n",
    "\n",
    "price_forecast = dt_features ** ForecastX(price_pipe, dt_features ** load_pipe)"
   ]
  },
  {
   "cell_type": "code",
   "execution_count": null,
   "metadata": {},
   "outputs": [],
   "source": [
    "price_forecast.fit(y_train, X=X_train_load, fh=X_test_load.index)\n",
    "predicted_price = price_forecast.predict(X=X_test_load)"
   ]
  },
  {
   "cell_type": "markdown",
   "metadata": {},
   "source": [
    "this works but ...\n",
    "\n",
    "* was kind of non-obvious to specify!\n",
    "* duplication of `dt_features` in specification\n",
    "* `X_test_load` needs to be passed - can be nan but unintuitive\n",
    "* quite nested, `get_params` is complicated"
   ]
  },
  {
   "cell_type": "code",
   "execution_count": null,
   "metadata": {},
   "outputs": [],
   "source": [
    "price_forecast.get_params()\n",
    "# let's better hope we don't need to tune this..."
   ]
  },
  {
   "cell_type": "markdown",
   "metadata": {
    "collapsed": false
   },
   "source": [
    "## 4.3 Graphical Pipelines aka Non-Sequential Pipelines\n",
    "\n",
    "benefits:\n",
    "\n",
    "* clearer specification language - graph formalism\n",
    "* clearer tuning due to shallow nesting\n",
    "* shared preprocessing instances, estimator elements, etc"
   ]
  },
  {
   "cell_type": "markdown",
   "metadata": {
    "collapsed": false
   },
   "source": [
    "### what are Graphical Pipelines?\n",
    "\n",
    "* arbitrary branching of data flows (calendar features are used by multiple different forecasts)\n",
    "* merging of data flows (output of calendar feature extraction and load forecasting are used by the price forecast)\n",
    "* in/out arrows can refer to the same estimator element\n",
    "\n",
    "### Non-Sequential Eletrical Price Forecast Pipeline with Ensembles\n",
    "<img src=\"../images/NonSequentialPipelineSimple.png\" alt=\"Non Sequential Pipelien\" width=\"1000\"/>\n",
    "\n",
    "\n",
    "* List of further examplary use-cases on [GitHub](https://github.com/sktime/sktime/issues/3023)\n",
    "    * Wind power generation forecast with hand-crafted feature extraction\n",
    "    * Theta-Forecaster\n",
    "\n",
    "### Roadmap for development - `sktime` meets `pyWATTS`!\n",
    "\n",
    "#### `sktime` -> unified estimator interface, forecasters, composition, sklearn compatible!\n",
    "\n",
    "#### [`pyWATTS`](https://github.com/KIT-IAI/pyWATTS) -> non-seq pipeline interface for transformers!\n",
    "\n",
    "* prototype design in [pyWATTS-sktime collab repo](https://github.com/KIT-IAI/pywatts-pipeline)\n",
    "* design study is performed [here](https://github.com/sktime/sktime/pull/3026#issuecomment-1239648856)\n",
    "\n",
    "#### many interesting open questions - research and software eng!\n",
    "\n",
    "* collected in this [issue](https://github.com/sktime/sktime/issues/2653)\n",
    "\n",
    "#### join us, work with us on graph/nonseq pipelines!"
   ]
  },
  {
   "cell_type": "markdown",
   "metadata": {},
   "source": [
    "# 5 Summary - `sktime` transformers and pipelines\n",
    "\n",
    "- time-series models and tools to quickly and easily deploy them\n",
    "\n",
    "- unified interface design maks it easy to try out different estimators, same vignette\n",
    "\n",
    "- composition to build pipelines from estimators and transformers - also under unified interface\n",
    "\n",
    "- rich tools for feature extraction, pipeline building, tuning, autoML\n",
    "\n",
    "- easy to extend via extension templates, add your own estimators"
   ]
  },
  {
   "cell_type": "markdown",
   "metadata": {
    "collapsed": false
   },
   "source": [
    "# Join sktime!\n",
    "\n",
    "* openly governed, approx equal academia/industry/early career split\n",
    "    * 18 core developers\n",
    "    * community council, representative governance\n",
    "* NumFOCUS-affiliated, affiliated academic centers in UK (and expanding)\n",
    "\n",
    "**EVERYONE CAN JOIN! EVERYONE CAN BECOME A COMMUNITY LEADER!**\n",
    "\n",
    "* join our slack (developers) and discord (events)!\n",
    "    * regular **community collaboration sessions** and stand-ups on Fridays\n",
    "    * multiple **Dev Sprints and Dev Days** per year\n",
    "\n",
    "Opportunities:\n",
    "\n",
    "* regular **job opportunities**, watch the jobs channel\n",
    "* sktime **mentoring programme**: github.com/sktime/mentoring\n",
    "\n",
    "## Thank you for your attention\n",
    "\n",
    "<img src=\"../images/team.jpg\" alt=\"Sktime Logo\" width=\"1000\"/>\n",
    "\n"
   ]
  },
  {
   "cell_type": "markdown",
   "metadata": {
    "collapsed": false
   },
   "source": [
    "---\n",
    "\n",
    "### Credits: notebook 4 - roadmap, sequential pipelines\n",
    "\n",
    "notebook creation: benheid\n",
    "\n",
    "[`pyWATTS`](https://github.com/KIT-IAI/pyWATTS): pywatts team, KIT-IAI\\\n",
    "`DateTimeFeatures`: danbartl\\\n",
    "various pipeline elements: mloning, aiwalter, fkiraly\\\n",
    "\n",
    "Based on design ideas: sklearn, magrittr, mlr, mlj\n",
    "\n",
    "electricity data set: freely available on [OPSD Platform](https://open-power-system-data.org/)\n",
    "\n",
    "---\n",
    "\n",
    "### Credits: sktime\n",
    "\n",
    "#### many thanks to [all `sktime` contributors!](https://www.sktime.org/en/latest/about/contributors.html)"
   ]
  }
 ],
 "metadata": {
  "kernelspec": {
   "display_name": "Python 3.8.12 ('sktime-baseobject')",
   "language": "python",
   "name": "python3"
  },
  "language_info": {
   "codemirror_mode": {
    "name": "ipython",
    "version": 3
   },
   "file_extension": ".py",
   "mimetype": "text/x-python",
   "name": "python",
   "nbconvert_exporter": "python",
   "pygments_lexer": "ipython3",
   "version": "3.8.12"
  },
  "vscode": {
   "interpreter": {
    "hash": "ff39becaf9fb8fe58d1d34fc2c63ee411a5dd80719d9cd02520236b9e8461a42"
   }
  }
 },
 "nbformat": 4,
 "nbformat_minor": 0
}
