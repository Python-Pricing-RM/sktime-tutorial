{
 "cells": [
  {
   "cell_type": "markdown",
   "source": [
    "# Non-sequential pipelining\n",
    "\n",
    "## Forecast Scenario\n",
    "* Electricity price forecast as a motivation use-case\n",
    "\n",
    "## Sequential Pipelines\n",
    "\n",
    "* Until now, we considered only sequential pipelines.\n",
    "* For electricity load forecasting a very simple pipeline may look as follows\n",
    "\n",
    "<img src=\"../images/sequential-pipeline.png\" alt=\"Sequential Pipelien\" width=\"1000\"/>\n",
    "\n",
    "\n",
    "### However\n",
    "* additional benefical features for electrical demand forecasting exists\n",
    "    * calendar information, which need to be extracted or\n",
    "    * future electrical demand\n",
    "\n",
    "## What are non-sequential pipelines\n",
    "Perhaps Price Forecast based on the Ensemble Model prediction and the calendar feature by using a Linear Regression?\n",
    "<img src=\"../images/non-sequential-pipeline.png\" alt=\"Non Sequential Pipelien\" width=\"1000\"/>\n",
    "\n",
    "### Characterista of non-sequential pipelines\n",
    "* Branching and Merging of paths\n",
    "* Non-Sequential pipelines are directed acyclic graphs (DAGs)\n",
    "\n",
    "\n",
    "\n",
    "\n",
    "## Need for non-sequential pipelines\n",
    "* List of further examplary use-cases on [GitHub](https://github.com/sktime/sktime/issues/3023)\n",
    "    * Wind power generation forecast with hand-crafted feature extraction\n",
    "    * Theta-Forecaster\n",
    "\n",
    "\n",
    "## Concept for realising non-sequential pipelines and prototype\n",
    "\n",
    "* Under development\n",
    "    * Thus, if you interested in supporting us in the implementation you are invited to join our Slack or Discord Channel\n",
    "    * Thus, the following example is just a prototype and it's interface etc. can change a lot."
   ],
   "metadata": {
    "collapsed": false
   }
  },
  {
   "cell_type": "code",
   "execution_count": 9,
   "outputs": [],
   "source": [
    "# import numpy and pandas\n",
    "import numpy as np\n",
    "import pandas as pd\n",
    "import matplotlib.pyplot as plt\n",
    "# Import Calendar feature Extraction from pyWATTS\n",
    "from pywatts.modules import CalendarExtraction, CalendarFeature, SKLearnWrapper, Ensemble, FunctionModule\n",
    "# Import sklearn Preprocessing\n",
    "from sklearn.linear_model import LinearRegression\n",
    "from sklearn.preprocessing import StandardScaler\n",
    "# Import sktime models\n",
    "from sktime.forecasting.base import ForecastingHorizon\n",
    "from sktime.forecasting.ets import AutoETS\n",
    "from sktime.forecasting.arima import ARIMA\n",
    "\n",
    "# Import non-sequential pipeline from pyWATTS\n",
    "from pywatts_pipeline.core.pipeline import Pipeline\n",
    "from pywatts_pipeline.core.util.computation_mode import ComputationMode\n",
    "from pywatts_pipeline.utils._xarray_time_series_utils import numpy_to_xarray"
   ],
   "metadata": {
    "collapsed": false
   }
  },
  {
   "cell_type": "markdown",
   "source": [
    "## Prototype\n",
    "\n",
    "* Use-case: non-sequential proce forecasting\n",
    "* Consist of multiple steps:\n",
    "\n",
    "#### 1. Define pipeline structure"
   ],
   "metadata": {
    "collapsed": false
   }
  },
  {
   "cell_type": "code",
   "execution_count": 10,
   "outputs": [
    {
     "ename": "AttributeError",
     "evalue": "'Pipeline' object has no attribute 'add_new_api'",
     "output_type": "error",
     "traceback": [
      "\u001B[1;31m---------------------------------------------------------------------------\u001B[0m",
      "\u001B[1;31mAttributeError\u001B[0m                            Traceback (most recent call last)",
      "Input \u001B[1;32mIn [10]\u001B[0m, in \u001B[0;36m<cell line: 18>\u001B[1;34m()\u001B[0m\n\u001B[0;32m     15\u001B[0m regressor_power_statistics \u001B[38;5;241m=\u001B[39m SKLearnWrapper(module\u001B[38;5;241m=\u001B[39mLinearRegression(fit_intercept\u001B[38;5;241m=\u001B[39m\u001B[38;5;28;01mTrue\u001B[39;00m))\n\u001B[0;32m     17\u001B[0m \u001B[38;5;66;03m# TODO change it that here \"time\" is possible!\u001B[39;00m\n\u001B[1;32m---> 18\u001B[0m \u001B[43mpipeline\u001B[49m\u001B[38;5;241;43m.\u001B[39;49m\u001B[43madd_new_api\u001B[49m(calendar, \u001B[38;5;124m\"\u001B[39m\u001B[38;5;124mcalendar\u001B[39m\u001B[38;5;124m\"\u001B[39m, {\u001B[38;5;124m\"\u001B[39m\u001B[38;5;124mx\u001B[39m\u001B[38;5;124m\"\u001B[39m: \u001B[38;5;124m\"\u001B[39m\u001B[38;5;124mtime\u001B[39m\u001B[38;5;124m\"\u001B[39m})\n\u001B[0;32m     19\u001B[0m pipeline\u001B[38;5;241m.\u001B[39madd_new_api(power_scaler, \u001B[38;5;124m\"\u001B[39m\u001B[38;5;124mpower_scaler\u001B[39m\u001B[38;5;124m\"\u001B[39m,\n\u001B[0;32m     20\u001B[0m                      {\u001B[38;5;124m\"\u001B[39m\u001B[38;5;124mx\u001B[39m\u001B[38;5;124m\"\u001B[39m: \u001B[38;5;124m\"\u001B[39m\u001B[38;5;124mload_power_statistics\u001B[39m\u001B[38;5;124m\"\u001B[39m})\n\u001B[0;32m     21\u001B[0m pipeline\u001B[38;5;241m.\u001B[39madd_new_api(regressor_power_statistics,\n\u001B[0;32m     22\u001B[0m                      \u001B[38;5;124m\"\u001B[39m\u001B[38;5;124mregressor_power_statistics\u001B[39m\u001B[38;5;124m\"\u001B[39m,\n\u001B[0;32m     23\u001B[0m                      {\u001B[38;5;124m\"\u001B[39m\u001B[38;5;124mcal\u001B[39m\u001B[38;5;124m\"\u001B[39m: \u001B[38;5;124m\"\u001B[39m\u001B[38;5;124mcalendar\u001B[39m\u001B[38;5;124m\"\u001B[39m, \u001B[38;5;124m\"\u001B[39m\u001B[38;5;124mtarget\u001B[39m\u001B[38;5;124m\"\u001B[39m: \u001B[38;5;124m\"\u001B[39m\u001B[38;5;124mpower_scaler\u001B[39m\u001B[38;5;124m\"\u001B[39m},\n\u001B[0;32m     24\u001B[0m                      )\n",
      "\u001B[1;31mAttributeError\u001B[0m: 'Pipeline' object has no attribute 'add_new_api'"
     ]
    }
   ],
   "source": [
    "pipeline = Pipeline(path=\"../results\")\n",
    "\n",
    "# Extract dummy calendar features, using holidays from Germany\n",
    "# NOTE: CalendarExtraction can't return multiple features.\n",
    "calendar = CalendarExtraction(continent=\"Europe\",\n",
    "                              country=\"Germany\",\n",
    "                              features=[CalendarFeature.month_sine,\n",
    "                                        CalendarFeature.month_cos,\n",
    "                                        CalendarFeature.weekday,\n",
    "                                        CalendarFeature.weekend,\n",
    "                                        CalendarFeature.hour_cos,\n",
    "                                        CalendarFeature.hour_sine]\n",
    "                              )\n",
    "power_scaler = SKLearnWrapper(module=StandardScaler(), name=\"scaler_power\")\n",
    "regressor_power_statistics = SKLearnWrapper(module=LinearRegression(fit_intercept=True))\n",
    "\n",
    "# TODO change it that here \"time\" is possible!\n",
    "pipeline.add_new_api(calendar, \"calendar\", {\"x\": \"time\"})\n",
    "pipeline.add_new_api(power_scaler, \"power_scaler\",\n",
    "                     {\"x\": \"load_power_statistics\"})\n",
    "pipeline.add_new_api(regressor_power_statistics,\n",
    "                     \"regressor_power_statistics\",\n",
    "                     {\"cal\": \"calendar\", \"target\": \"power_scaler\"},\n",
    "                     )\n",
    "pipeline.add_new_api(power_scaler, \"power_scaler_inverse\",\n",
    "                     {\"x\": \"regressor_power_statistics\"},\n",
    "                     method=\"inverse_transform\")\n",
    "\n",
    "pipeline.add_new_api(ARIMA(), \"ARIMA\",\n",
    "                     {\"y\": \"load_power_statistics\",\n",
    "                      \"X\": \"calendar\",\n",
    "                      },\n",
    "                     )\n",
    "pipeline.add_new_api(AutoETS(), \"ETS\",\n",
    "                     {\"y\": \"load_power_statistics\",}\n",
    "                     )\n",
    "pipeline.add_new_api(FunctionModule(lambda x: numpy_to_xarray(x.values.reshape((-1, 1)), x)),\n",
    "                     \"reshapedETS\", {\"x\": \"ETS\"})\n",
    "pipeline.add_new_api(FunctionModule(lambda x: numpy_to_xarray(x.values.reshape((-1, 1)), x)),\n",
    "                     \"reshapedARIMA\", {\"x\": \"ARIMA\"})\n",
    "\n",
    "pipeline.add_new_api(power_scaler, \"inverse_lr\", {\"x\": \"regressor_power_statistics\"},\n",
    "                     computation_mode=ComputationMode.Transform,\n",
    "                     use_inverse_transform=True,\n",
    "                     method=\"inverse_transform\"\n",
    "                     )\n",
    "\n",
    "pipeline.add_new_api(Ensemble(), \"ensemble_forecast\", {\"x\": \"inverse_lr\", \"x2\": \"reshapedETS\",\n",
    "                                                       \"x3\": \"reshapedARIMA\",\n",
    "                                                       \"target\": \"load_power_statistics\"},\n",
    "                     )\n",
    "\n",
    "# TODO richtiges verschieben mit ClockShift?\n",
    "\n",
    "pipeline.add_new_api(SKLearnWrapper(name=\"LR Price\", module=LinearRegression()), \"LR Price\",\n",
    "                     {\"x\": \"ensemble_forecast\", \"cal\": \"calendar\", \"target\": \"price_day_ahead\"},\n",
    "                     )\n"
   ],
   "metadata": {
    "collapsed": false
   }
  },
  {
   "cell_type": "markdown",
   "source": [
    "## Load Data, Train, and Predict with the Pipeline"
   ],
   "metadata": {
    "collapsed": false
   }
  },
  {
   "cell_type": "code",
   "execution_count": null,
   "outputs": [],
   "source": [
    "data = pd.read_csv(\"data/getting_started_data.csv\",\n",
    "                   index_col=\"time\",\n",
    "                   parse_dates=[\"time\"],\n",
    "                   infer_datetime_format=True,\n",
    "                   sep=\",\")\n",
    "data = data.asfreq(pd.infer_freq(data.index))\n",
    "\n",
    "train = data.iloc[:1000, :]\n",
    "\n",
    "result = pipeline.train(data=train)"
   ],
   "metadata": {
    "collapsed": false
   }
  },
  {
   "cell_type": "markdown",
   "source": [
    "Execute and predict with the pipeline"
   ],
   "metadata": {
    "collapsed": false
   }
  },
  {
   "cell_type": "code",
   "execution_count": null,
   "outputs": [],
   "source": [
    "test = data.iloc[1000:1024]\n",
    "test.drop(\"load_power_statistics\", axis=1)\n",
    "\n",
    "# TODO try to transform/predict instead of test!\n",
    "result, _ = pipeline.test(data=test[: 24], fh=ForecastingHorizon(np.arange(1, 400), freq=\"1h\"))\n",
    "pipeline.get_step(\"ensemble_forecast\", pipeline.assembled_steps).step.buffer[\"ensemble_forecast\"].plot(label=\"Ensemble\")\n",
    "pipeline.get_step(\"inverse_lr\", pipeline.assembled_steps).step.buffer[\"inverse_lr\"].plot(label=\"LR\")\n",
    "pipeline.get_step(\"ETS\", pipeline.assembled_steps).step.buffer[\"ETS\"].plot(label=\"ETS\")\n",
    "pipeline.get_step(\"ARIMA\", pipeline.assembled_steps).step.buffer[\"ARIMA\"].plot(label=\"ARIMA\")\n",
    "plt.legend()\n",
    "plt.show()\n",
    "plt.close()\n",
    "ax = result[\"target\"].plot(label=\"LR Price Forecast\")\n"
   ],
   "metadata": {
    "collapsed": false
   }
  },
  {
   "cell_type": "markdown",
   "source": [
    "# TODOs\n",
    "* Use predict/transform instead of train\n",
    "* Make things inside of the pipeline prettier\n",
    "* Rename add_api_new\n",
    "* Reduce the warnings, fix the corresponding issues\n",
    "* Can we change the key target to price?\n",
    "* Add images for:\n",
    "    * Explaining non-sequential workflows\n",
    "    * Showing the example pipeline we consider in the tutorial\n",
    "* What is the problem with a gap between training and test data? Ensemble seems to make some problems...\n",
    "* Improve the forecasting quality of all models!\n"
   ],
   "metadata": {
    "collapsed": false
   },
   "execution_count": 3
  },
  {
   "cell_type": "code",
   "execution_count": null,
   "outputs": [],
   "source": [],
   "metadata": {
    "collapsed": false
   }
  }
 ],
 "metadata": {
  "kernelspec": {
   "display_name": "Python 3",
   "language": "python",
   "name": "python3"
  },
  "language_info": {
   "codemirror_mode": {
    "name": "ipython",
    "version": 2
   },
   "file_extension": ".py",
   "mimetype": "text/x-python",
   "name": "python",
   "nbconvert_exporter": "python",
   "pygments_lexer": "ipython2",
   "version": "2.7.6"
  }
 },
 "nbformat": 4,
 "nbformat_minor": 0
}
